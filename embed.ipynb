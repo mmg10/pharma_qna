{
 "cells": [
  {
   "cell_type": "markdown",
   "metadata": {},
   "source": [
    "# Revised Model - Semantic Search"
   ]
  },
  {
   "cell_type": "markdown",
   "metadata": {},
   "source": [
    "Download dataset from HuggingFace"
   ]
  },
  {
   "cell_type": "code",
   "execution_count": 1,
   "metadata": {},
   "outputs": [
    {
     "name": "stderr",
     "output_type": "stream",
     "text": [
      "/usr/local/python/3.12.1/lib/python3.12/site-packages/tqdm/auto.py:21: TqdmWarning: IProgress not found. Please update jupyter and ipywidgets. See https://ipywidgets.readthedocs.io/en/stable/user_install.html\n",
      "  from .autonotebook import tqdm as notebook_tqdm\n"
     ]
    }
   ],
   "source": [
    "from datasets import load_dataset\n",
    "\n",
    "dataset = load_dataset(\"Jaymax/FDA_Pharmaceuticals_FAQ\", split=\"train\")"
   ]
  },
  {
   "cell_type": "code",
   "execution_count": 2,
   "metadata": {},
   "outputs": [
    {
     "data": {
      "text/plain": [
       "Dataset({\n",
       "    features: ['Question', 'Answer'],\n",
       "    num_rows: 1433\n",
       "})"
      ]
     },
     "execution_count": 2,
     "metadata": {},
     "output_type": "execute_result"
    }
   ],
   "source": [
    "dataset"
   ]
  },
  {
   "cell_type": "markdown",
   "metadata": {},
   "source": [
    "## ElasticSearch Database"
   ]
  },
  {
   "cell_type": "markdown",
   "metadata": {},
   "source": [
    "First, we initialize the ElasticSearch database"
   ]
  },
  {
   "cell_type": "code",
   "execution_count": 3,
   "metadata": {},
   "outputs": [],
   "source": [
    "from elasticsearch import Elasticsearch\n",
    "\n",
    "es_client = Elasticsearch(\"http://localhost:9200\")"
   ]
  },
  {
   "cell_type": "code",
   "execution_count": 4,
   "metadata": {},
   "outputs": [
    {
     "data": {
      "text/plain": [
       "ObjectApiResponse({'acknowledged': True, 'shards_acknowledged': True, 'index': 'pharma_embed'})"
      ]
     },
     "execution_count": 4,
     "metadata": {},
     "output_type": "execute_result"
    }
   ],
   "source": [
    "settings = {\"number_of_shards\": 1, \"number_of_replicas\": 0}\n",
    "\n",
    "mappings = {\n",
    "    \"dynamic\": \"true\",\n",
    "    \"numeric_detection\": \"true\",\n",
    "    \"_source\": {\"enabled\": \"true\"},\n",
    "    \"properties\": {\n",
    "        \"Answer\": {\"type\": \"text\"},\n",
    "        \"Question\": {\n",
    "            \"type\": \"text\",\n",
    "        },\n",
    "        \"QuestionVector\": {\n",
    "            \"type\": \"dense_vector\",\n",
    "            \"dims\": 768,\n",
    "            \"index\": True,\n",
    "            \"similarity\": \"cosine\",\n",
    "        },\n",
    "        \"AnswerVector\": {\n",
    "            \"type\": \"dense_vector\",\n",
    "            \"dims\": 768,\n",
    "            \"index\": True,\n",
    "            \"similarity\": \"cosine\",\n",
    "        },\n",
    "    },\n",
    "}\n",
    "\n",
    "\n",
    "index_name = \"pharma_embed\"\n",
    "if es_client.indices.exists(index=index_name):\n",
    "    es_client.indices.delete(index=index_name)\n",
    "es_client.indices.create(index=index_name, settings=settings, mappings=mappings)\n"
   ]
  },
  {
   "cell_type": "code",
   "execution_count": 5,
   "metadata": {},
   "outputs": [
    {
     "data": {
      "text/plain": [
       "{'Question': 'Taking into account the content of Q7 Good Manufacturing Practice Guidance for Active Pharmaceutical Ingredients Guidance for Industry , Would additional process validation studies be needed to support a change in the source of an API starting material?',\n",
       " 'Answer': 'Any change in the API starting material should be assessed for impact on the API manufacturing process and the resulting API quality (ICH Q7, paragraph 7.14). Additional validation studies of the API process may be warranted if the change in the API starting material is deemed significant. In most cases, validation would be expected for a different source of the starting material unless otherwise justified (ICH Q7, paragraphs 12.1, 13.13).'}"
      ]
     },
     "execution_count": 5,
     "metadata": {},
     "output_type": "execute_result"
    }
   ],
   "source": [
    "dataset[0]"
   ]
  },
  {
   "cell_type": "markdown",
   "metadata": {},
   "source": [
    "## Embeddings"
   ]
  },
  {
   "cell_type": "markdown",
   "metadata": {},
   "source": [
    "We instantiate our Embeddings Model"
   ]
  },
  {
   "cell_type": "code",
   "execution_count": 6,
   "metadata": {},
   "outputs": [],
   "source": [
    "from sentence_transformers import SentenceTransformer\n",
    "\n",
    "model = SentenceTransformer(\"NeuML/pubmedbert-base-embeddings\")"
   ]
  },
  {
   "cell_type": "markdown",
   "metadata": {},
   "source": [
    "We append the embeddings of the question and answer to our dataset and ingest it to the database"
   ]
  },
  {
   "cell_type": "code",
   "execution_count": null,
   "metadata": {},
   "outputs": [],
   "source": [
    "from tqdm.auto import tqdm\n",
    "\n",
    "documents = []\n",
    "\n",
    "for doc in tqdm(dataset):\n",
    "    doc[\"QuestionVector\"] = model.encode(doc[\"Question\"]).tolist()\n",
    "    doc[\"AnswerVector\"] = model.encode(doc[\"Answer\"]).tolist()\n",
    "    documents.append(doc)\n",
    "    es_client.index(index=index_name, document=doc)"
   ]
  },
  {
   "cell_type": "code",
   "execution_count": 7,
   "metadata": {},
   "outputs": [],
   "source": [
    "import pickle\n",
    "\n",
    "# # Saving embeddings to a file\n",
    "# with open(\"embeddings.pkl\", \"wb\") as f:\n",
    "#     pickle.dump(documents, f)\n",
    "\n",
    "with open('embeddings.pkl', 'rb') as f:\n",
    "    documents = pickle.load(f)"
   ]
  },
  {
   "cell_type": "code",
   "execution_count": 8,
   "metadata": {},
   "outputs": [
    {
     "data": {
      "text/plain": [
       "768"
      ]
     },
     "execution_count": 8,
     "metadata": {},
     "output_type": "execute_result"
    }
   ],
   "source": [
    "len(documents[0]['QuestionVector'])"
   ]
  },
  {
   "cell_type": "code",
   "execution_count": 9,
   "metadata": {},
   "outputs": [],
   "source": [
    "query = \"What is the goal for IVD studies?\"\n",
    "query_vector = model.encode(query)"
   ]
  },
  {
   "cell_type": "code",
   "execution_count": 11,
   "metadata": {},
   "outputs": [
    {
     "name": "stdout",
     "output_type": "stream",
     "text": [
      "Unfortunately, I don't have any context to draw from. Please provide\n",
      "the context from the FAQ database, and I'll be happy to answer the\n",
      "question based on the facts provided.\n"
     ]
    }
   ],
   "source": [
    "from utils import wrap, rag_vector\n",
    "\n",
    "answer = rag_vector(query, query_vector, es_client, index_name)\n",
    "print(wrap(answer))"
   ]
  },
  {
   "cell_type": "code",
   "execution_count": 12,
   "metadata": {},
   "outputs": [],
   "source": [
    "dataset_test = load_dataset(\"Jaymax/FDA_Pharmaceuticals_FAQ\", split=\"test\")"
   ]
  },
  {
   "cell_type": "code",
   "execution_count": 13,
   "metadata": {},
   "outputs": [
    {
     "data": {
      "text/plain": [
       "{'Question': 'As described in Assessing User Fees Under the Generic Drug User Fee Amendments of 2022 , Do DMF holders need to wait for a new ANDA applicant to request a letter of authorization before the DMF is assessed to be available for reference?',\n",
       " 'Answer': 'No. DMF holders can pay the fee before a letter of authorization is requested. The DMF will then undergo an initial completeness assessment, using factors articulated in the final guidance _Completeness Assessments for Type II Active Pharmaceutical Ingredient Drug Master Files Under the Generic Drug User Fee Amendments_. If the DMF passes the initial completeness assessment, FDA will identify the DMF on the Type II Drug Master Files - Available for Reference List.'}"
      ]
     },
     "execution_count": 13,
     "metadata": {},
     "output_type": "execute_result"
    }
   ],
   "source": [
    "dataset_test[0]"
   ]
  },
  {
   "cell_type": "code",
   "execution_count": 14,
   "metadata": {},
   "outputs": [
    {
     "name": "stdout",
     "output_type": "stream",
     "text": [
      "Generated Answer\n",
      "--------\n",
      "According to the Generic Drug User Fee Amendments of 2022, DMF holders\n",
      "do not need to wait for a new ANDA applicant to request a letter of\n",
      "authorization before the DMF is assessed to be available for\n",
      "reference.\n",
      "********\n",
      "Ground Truth\n",
      "--------\n",
      "No. DMF holders can pay the fee before a letter of authorization is\n",
      "requested. The DMF will then undergo an initial completeness\n",
      "assessment, using factors articulated in the final guidance\n",
      "_Completeness Assessments for Type II Active Pharmaceutical Ingredient\n",
      "Drug Master Files Under the Generic Drug User Fee Amendments_. If the\n",
      "DMF passes the initial completeness assessment, FDA will identify the\n",
      "DMF on the Type II Drug Master Files - Available for Reference List.\n"
     ]
    }
   ],
   "source": [
    "query = dataset_test[0]['Question']\n",
    "query_vector = model.encode(query)\n",
    "answer = rag_vector(query, query_vector, es_client, index_name)\n",
    "print('Generated Answer')\n",
    "print('-'*8)\n",
    "print(wrap(answer))\n",
    "print('*'*8)\n",
    "\n",
    "print('Ground Truth')\n",
    "print('-'*8)\n",
    "print(wrap(dataset_test[0]['Answer']))\n"
   ]
  },
  {
   "cell_type": "code",
   "execution_count": null,
   "metadata": {},
   "outputs": [],
   "source": []
  }
 ],
 "metadata": {
  "kernelspec": {
   "display_name": "Python 3",
   "language": "python",
   "name": "python3"
  },
  "language_info": {
   "codemirror_mode": {
    "name": "ipython",
    "version": 3
   },
   "file_extension": ".py",
   "mimetype": "text/x-python",
   "name": "python",
   "nbconvert_exporter": "python",
   "pygments_lexer": "ipython3",
   "version": "3.12.1"
  }
 },
 "nbformat": 4,
 "nbformat_minor": 2
}
