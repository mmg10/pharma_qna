{
 "cells": [
  {
   "cell_type": "markdown",
   "metadata": {},
   "source": [
    "# Baseline - Using Keyword Search"
   ]
  },
  {
   "cell_type": "markdown",
   "metadata": {},
   "source": [
    "Download dataset from HuggingFace"
   ]
  },
  {
   "cell_type": "code",
   "execution_count": 1,
   "metadata": {},
   "outputs": [
    {
     "name": "stderr",
     "output_type": "stream",
     "text": [
      "/usr/local/python/3.12.1/lib/python3.12/site-packages/tqdm/auto.py:21: TqdmWarning: IProgress not found. Please update jupyter and ipywidgets. See https://ipywidgets.readthedocs.io/en/stable/user_install.html\n",
      "  from .autonotebook import tqdm as notebook_tqdm\n"
     ]
    }
   ],
   "source": [
    "from datasets import load_dataset\n",
    "\n",
    "dataset = load_dataset(\"Jaymax/FDA_Pharmaceuticals_FAQ\", split=\"train\")"
   ]
  },
  {
   "cell_type": "code",
   "execution_count": 2,
   "metadata": {},
   "outputs": [
    {
     "data": {
      "text/plain": [
       "Dataset({\n",
       "    features: ['Question', 'Answer'],\n",
       "    num_rows: 1433\n",
       "})"
      ]
     },
     "execution_count": 2,
     "metadata": {},
     "output_type": "execute_result"
    }
   ],
   "source": [
    "dataset"
   ]
  },
  {
   "cell_type": "markdown",
   "metadata": {},
   "source": [
    "## ElasticSearch Database"
   ]
  },
  {
   "cell_type": "markdown",
   "metadata": {},
   "source": [
    "First, we initialize the ElasticSearch database"
   ]
  },
  {
   "cell_type": "code",
   "execution_count": 3,
   "metadata": {},
   "outputs": [],
   "source": [
    "from elasticsearch import Elasticsearch\n",
    "\n",
    "es_client = Elasticsearch(\"http://localhost:9200\")"
   ]
  },
  {
   "cell_type": "code",
   "execution_count": 4,
   "metadata": {},
   "outputs": [
    {
     "data": {
      "text/plain": [
       "ObjectApiResponse({'acknowledged': True, 'shards_acknowledged': True, 'index': 'pharma'})"
      ]
     },
     "execution_count": 4,
     "metadata": {},
     "output_type": "execute_result"
    }
   ],
   "source": [
    "settings = {\"number_of_shards\": 1, \"number_of_replicas\": 0}\n",
    "\n",
    "mappings = {\n",
    "    \"dynamic\": \"true\",\n",
    "    \"numeric_detection\": \"true\",\n",
    "    \"_source\": {\"enabled\": \"true\"},\n",
    "    \"properties\": {\n",
    "        \"answer\": {\"type\": \"text\"},\n",
    "        \"question\": {\n",
    "            \"type\": \"text\",\n",
    "        },\n",
    "    },\n",
    "}\n",
    "\n",
    "index_name = \"pharma\"\n",
    "if es_client.indices.exists(index=index_name):\n",
    "    es_client.indices.delete(index=index_name)\n",
    "es_client.indices.create(index=index_name, settings=settings, mappings=mappings)"
   ]
  },
  {
   "cell_type": "markdown",
   "metadata": {},
   "source": [
    "Then, we ingest the dataset to the ElasticSearch Database"
   ]
  },
  {
   "cell_type": "code",
   "execution_count": 5,
   "metadata": {},
   "outputs": [
    {
     "name": "stderr",
     "output_type": "stream",
     "text": [
      "100%|██████████| 1433/1433 [00:32<00:00, 43.60it/s]\n"
     ]
    }
   ],
   "source": [
    "from tqdm.auto import tqdm\n",
    "\n",
    "for doc in tqdm(dataset):\n",
    "    es_client.index(index=index_name, document=doc)"
   ]
  },
  {
   "cell_type": "markdown",
   "metadata": {},
   "source": [
    "## Perform Search"
   ]
  },
  {
   "cell_type": "markdown",
   "metadata": {},
   "source": [
    "In our `utils.py` file, we have created helper functions that\n",
    "- perform search over the elasticsearch database\n",
    "- build a prompt for our LLM that takes in the relevant documents from the search results\n",
    "- invoke the LLM to generate the result"
   ]
  },
  {
   "cell_type": "code",
   "execution_count": 6,
   "metadata": {},
   "outputs": [
    {
     "name": "stdout",
     "output_type": "stream",
     "text": [
      "The goals for IVD studies are the same as the goals for other device\n",
      "studies. The goals are to:\n",
      "\n",
      "* Produce valid scientific evidence demonstrating reasonable assurance\n",
      "of the safety and effectiveness of the product.\n",
      "* Protect the rights and welfare of study subjects.\n"
     ]
    }
   ],
   "source": [
    "from utils import wrap, rag\n",
    "\n",
    "query = \"What is the goal for IVD studies?\"\n",
    "answer = rag(query, es_client, index_name)\n",
    "print(wrap(answer))"
   ]
  },
  {
   "cell_type": "code",
   "execution_count": 7,
   "metadata": {},
   "outputs": [],
   "source": [
    "dataset_test = load_dataset(\"Jaymax/FDA_Pharmaceuticals_FAQ\", split=\"test\")"
   ]
  },
  {
   "cell_type": "code",
   "execution_count": 8,
   "metadata": {},
   "outputs": [
    {
     "data": {
      "text/plain": [
       "{'Question': 'As described in Assessing User Fees Under the Generic Drug User Fee Amendments of 2022 , Do DMF holders need to wait for a new ANDA applicant to request a letter of authorization before the DMF is assessed to be available for reference?',\n",
       " 'Answer': 'No. DMF holders can pay the fee before a letter of authorization is requested. The DMF will then undergo an initial completeness assessment, using factors articulated in the final guidance _Completeness Assessments for Type II Active Pharmaceutical Ingredient Drug Master Files Under the Generic Drug User Fee Amendments_. If the DMF passes the initial completeness assessment, FDA will identify the DMF on the Type II Drug Master Files - Available for Reference List.'}"
      ]
     },
     "execution_count": 8,
     "metadata": {},
     "output_type": "execute_result"
    }
   ],
   "source": [
    "dataset_test[0]"
   ]
  },
  {
   "cell_type": "code",
   "execution_count": 9,
   "metadata": {},
   "outputs": [
    {
     "name": "stdout",
     "output_type": "stream",
     "text": [
      "Generated Answer\n",
      "--------\n",
      "No, the context does not explicitly state that DMF holders need to\n",
      "wait for a new ANDA applicant to request a letter of authorization\n",
      "before the DMF is assessed to be available for reference. However, it\n",
      "does state that the DMF fee is incurred the first time a generic drug\n",
      "submission references that DMF by an initial letter of authorization\n",
      "on or after October 1, 2012.\n",
      "********\n",
      "Ground Truth\n",
      "--------\n",
      "No. DMF holders can pay the fee before a letter of authorization is\n",
      "requested. The DMF will then undergo an initial completeness\n",
      "assessment, using factors articulated in the final guidance\n",
      "_Completeness Assessments for Type II Active Pharmaceutical Ingredient\n",
      "Drug Master Files Under the Generic Drug User Fee Amendments_. If the\n",
      "DMF passes the initial completeness assessment, FDA will identify the\n",
      "DMF on the Type II Drug Master Files - Available for Reference List.\n"
     ]
    }
   ],
   "source": [
    "query = dataset_test[0]['Question']\n",
    "answer = rag(query, es_client, index_name)\n",
    "print('Generated Answer')\n",
    "print('-'*8)\n",
    "print(wrap(answer))\n",
    "print('*'*8)\n",
    "\n",
    "print('Ground Truth')\n",
    "print('-'*8)\n",
    "print(wrap(dataset_test[0]['Answer']))\n"
   ]
  },
  {
   "cell_type": "code",
   "execution_count": null,
   "metadata": {},
   "outputs": [],
   "source": []
  }
 ],
 "metadata": {
  "kernelspec": {
   "display_name": "athena",
   "language": "python",
   "name": "python3"
  },
  "language_info": {
   "codemirror_mode": {
    "name": "ipython",
    "version": 3
   },
   "file_extension": ".py",
   "mimetype": "text/x-python",
   "name": "python",
   "nbconvert_exporter": "python",
   "pygments_lexer": "ipython3",
   "version": "3.12.1"
  }
 },
 "nbformat": 4,
 "nbformat_minor": 2
}
